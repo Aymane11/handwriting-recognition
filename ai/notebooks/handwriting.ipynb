{
  "nbformat": 4,
  "nbformat_minor": 0,
  "metadata": {
    "kernelspec": {
      "name": "python3",
      "display_name": "Python 3.8.9 64-bit"
    },
    "metadata": {
      "interpreter": {
        "hash": "ac59ebe37160ed0dfa835113d9b8498d9f09ceb179beaac4002f036b9467c963"
      }
    },
    "colab": {
      "name": "handwriting.ipynb",
      "provenance": [],
      "collapsed_sections": [],
      "toc_visible": true
    },
    "language_info": {
      "name": "python",
      "version": "3.8.9"
    },
    "accelerator": "GPU",
    "interpreter": {
      "hash": "1baa965d5efe3ac65b79dfc60c0d706280b1da80fedb7760faf2759126c4f253"
    }
  },
  "cells": [
    {
      "cell_type": "markdown",
      "metadata": {
        "id": "2SrW8MxcMOgb"
      },
      "source": [
        "## Import libraries"
      ]
    },
    {
      "cell_type": "code",
      "metadata": {
        "_cell_guid": "b1076dfc-b9ad-4769-8c92-a6c4dae69d19",
        "_uuid": "8f2839f25d086af736a60e9eeb907d3b93b6e0e5",
        "id": "dCaRCW-lMOgf"
      },
      "source": [
        "import numpy as np\n",
        "import pandas as pd\n",
        "\n",
        "import matplotlib.pyplot as plt\n",
        "%matplotlib inline\n",
        "\n",
        "from tensorflow import keras"
      ],
      "execution_count": null,
      "outputs": []
    },
    {
      "cell_type": "markdown",
      "metadata": {
        "id": "ltvgop-ZMOgg"
      },
      "source": [
        "## Dataset path"
      ]
    },
    {
      "cell_type": "code",
      "metadata": {
        "id": "optN-mNMMOgh"
      },
      "source": [
        "data_path = \"../data/emnist/\"\n",
        "\n",
        "train_data_path = data_path + \"emnist-balanced-train.csv\"\n",
        "test_data_path = data_path + \"emnist-balanced-test.csv\""
      ],
      "execution_count": null,
      "outputs": []
    },
    {
      "cell_type": "markdown",
      "metadata": {
        "id": "zvprnHCHMOgj"
      },
      "source": [
        "## Loading train and test datasets"
      ]
    },
    {
      "cell_type": "code",
      "metadata": {
        "id": "5n0VRoN3MOgk"
      },
      "source": [
        "train_df = pd.read_csv(train_data_path, header=None)\n",
        "test_df = pd.read_csv(test_data_path, header=None)"
      ],
      "execution_count": null,
      "outputs": []
    },
    {
      "cell_type": "code",
      "metadata": {
        "id": "LifQ9K1_MOgk"
      },
      "source": [
        "print(f'The train dataset contains {train_df.shape[0]} observation and {train_df.shape[1]} characterisitics (which one is dependant variable, and rest are independant variables)')"
      ],
      "execution_count": null,
      "outputs": []
    },
    {
      "cell_type": "code",
      "metadata": {
        "id": "AtS3zX0lMOgl"
      },
      "source": [
        "print(f'The test dataset contains {test_df.shape[0]} observation and {test_df.shape[1]} characterisitics')"
      ],
      "execution_count": null,
      "outputs": []
    },
    {
      "cell_type": "code",
      "metadata": {
        "id": "1LPF_YsWMOgn"
      },
      "source": [
        "train_df.sample(5, random_state=31)"
      ],
      "execution_count": null,
      "outputs": []
    },
    {
      "cell_type": "markdown",
      "metadata": {
        "id": "2PDhfgB5MOgo"
      },
      "source": [
        "- The first column in the dataframe represents the class label (see mappings.txt for class label definitions)"
      ]
    },
    {
      "cell_type": "code",
      "metadata": {
        "id": "E0a4ISO7MOgo"
      },
      "source": [
        "class_mapping = '0123456789ABCDEFGHIJKLMNOPQRSTUVWXYZabdefghnqrt'"
      ],
      "execution_count": null,
      "outputs": []
    },
    {
      "cell_type": "markdown",
      "metadata": {
        "id": "s2rkmR2lMOgp"
      },
      "source": [
        "### Plotting images from dataset"
      ]
    },
    {
      "cell_type": "code",
      "metadata": {
        "id": "b0f8I0xaMOgp"
      },
      "source": [
        "def plot_image(df,row,title=None):\n",
        "    img = df.values[row, 1:].reshape([28,28])\n",
        "    plt.imshow(img, cmap=\"Greys_r\")\n",
        "    if title is None:\n",
        "        label = class_mapping[df.values[row,0]]\n",
        "        plt.title(f'Label = {label}')\n",
        "    else:\n",
        "        plt.title(title)\n",
        "    plt.show()"
      ],
      "execution_count": null,
      "outputs": []
    },
    {
      "cell_type": "code",
      "metadata": {
        "id": "CM88unBgMOgp",
        "colab": {
          "base_uri": "https://localhost:8080/",
          "height": 281
        },
        "outputId": "fb5fff86-ec92-45db-97c1-cc601a487812"
      },
      "source": [
        "from random import randrange\n",
        "num = randrange(len(train_df))\n",
        "plot_image(train_df, num)"
      ],
      "execution_count": null,
      "outputs": []
    },
    {
      "cell_type": "markdown",
      "metadata": {
        "id": "ObqwuHhpMOgq"
      },
      "source": [
        "### The data is flipped"
      ]
    },
    {
      "cell_type": "code",
      "metadata": {
        "id": "xiW2z-FDMOgq"
      },
      "source": [
        "def plot_flipped_image(df, row, title=None):\n",
        "    img = df.values[row, 1:].reshape([28,28])\n",
        "    img_flipped = np.transpose(img, axes=[1,0])\n",
        "    plt.imshow(img_flipped, cmap=\"Greys_r\")\n",
        "    if title is None:\n",
        "        label = class_mapping[df.values[row,0]]\n",
        "        plt.title(f'Label = {label}')\n",
        "    else:\n",
        "        plt.title(title)\n",
        "    plt.show()"
      ],
      "execution_count": null,
      "outputs": []
    },
    {
      "cell_type": "code",
      "metadata": {
        "id": "3urzyqBzMOgq",
        "colab": {
          "base_uri": "https://localhost:8080/",
          "height": 281
        },
        "outputId": "90a66ee0-2d24-4814-8732-ac11bcc3fdd8"
      },
      "source": [
        "plot_flipped_image(train_df, num)"
      ],
      "execution_count": null,
      "outputs": []
    },
    {
      "cell_type": "markdown",
      "metadata": {
        "id": "2Fm7THouMOgr"
      },
      "source": [
        "## Split X and y"
      ]
    },
    {
      "cell_type": "code",
      "metadata": {
        "id": "nSWblhMLMOgr"
      },
      "source": [
        "train_X, train_y = train_df.iloc[:,1:].values, train_df.iloc[:,0].values\n",
        "test_X, test_y = test_df.iloc[:,1:].values, test_df.iloc[:,0].values"
      ],
      "execution_count": null,
      "outputs": []
    },
    {
      "cell_type": "code",
      "metadata": {
        "id": "GcVx9Qr3MOgr"
      },
      "source": [
        "print(train_X.shape, train_y.shape, test_X.shape, test_y.shape)"
      ],
      "execution_count": null,
      "outputs": []
    },
    {
      "cell_type": "markdown",
      "metadata": {
        "id": "wBx9VUX1MOgr"
      },
      "source": [
        "## Preprocessing"
      ]
    },
    {
      "cell_type": "markdown",
      "metadata": {
        "id": "pJucFzI8MOgr"
      },
      "source": [
        "### Rotating images"
      ]
    },
    {
      "cell_type": "code",
      "metadata": {
        "tags": [],
        "id": "86pkDWK3MOgs"
      },
      "source": [
        "img_size = int(np.sqrt(len(train_df.columns)-1))\n",
        "def rotate(image):\n",
        "    image = image.reshape([img_size, img_size])    \n",
        "    image = np.transpose(image,axes=[1,0])\n",
        "    return image"
      ],
      "execution_count": null,
      "outputs": []
    },
    {
      "cell_type": "code",
      "metadata": {
        "id": "c50qQ-wAMOgs"
      },
      "source": [
        "train_X = np.apply_along_axis(rotate, 1, train_X)\n",
        "\n",
        "print(train_X.shape, train_X.dtype)"
      ],
      "execution_count": null,
      "outputs": []
    },
    {
      "cell_type": "code",
      "metadata": {
        "id": "QOlGB3LEMOgs"
      },
      "source": [
        "test_X = np.apply_along_axis(rotate, 1, test_X)\n",
        "\n",
        "print(test_X.shape, test_X.dtype)"
      ],
      "execution_count": null,
      "outputs": []
    },
    {
      "cell_type": "markdown",
      "metadata": {
        "id": "MbhmTBOkMOgt"
      },
      "source": [
        "### Normalisation"
      ]
    },
    {
      "cell_type": "code",
      "metadata": {
        "id": "jDV3LQPjMOgt"
      },
      "source": [
        "train_X = train_X.astype('float64')\n",
        "test_X = test_X.astype('float64')\n",
        "\n",
        "train_X /= 255.0\n",
        "test_X /= 255.0"
      ],
      "execution_count": null,
      "outputs": []
    },
    {
      "cell_type": "code",
      "metadata": {
        "id": "1rrXnb_oMOgt",
        "outputId": "7b7527b8-ff65-4cca-c33c-0b6497dcb74c"
      },
      "source": [
        "for i in range(9):\n",
        "    plt.subplot(330 + (i+1))\n",
        "    plt.imshow(train_X[i], cmap=plt.get_cmap('gray'))\n",
        "    plt.title(class_mapping[train_y[i]])\n"
      ],
      "execution_count": null,
      "outputs": []
    },
    {
      "cell_type": "markdown",
      "metadata": {
        "id": "Fa_bMR9pMOgv"
      },
      "source": [
        "\n",
        "### One-hot encoding targets"
      ]
    },
    {
      "cell_type": "code",
      "metadata": {
        "id": "dU5OqmDwMOgv"
      },
      "source": [
        "num_classes = len(train_df[0].unique())\n",
        "train_y = keras.utils.to_categorical(train_y, num_classes)\n",
        "test_y = keras.utils.to_categorical(test_y, num_classes)"
      ],
      "execution_count": null,
      "outputs": []
    },
    {
      "cell_type": "markdown",
      "metadata": {
        "id": "MFx2qCK3MOgv"
      },
      "source": [
        "### Reshaping images for CNN"
      ]
    },
    {
      "cell_type": "code",
      "metadata": {
        "id": "1Irv4ekZMOgv"
      },
      "source": [
        "train_X = train_X.reshape(-1, img_size, img_size, 1) #112800 (28x28x1) images (0-1 range)\n",
        "test_X = test_X.reshape(-1, img_size, img_size, 1) #18800 (28x28x1) images (0-1 range)\n",
        "print(train_X.shape, test_X.shape)"
      ],
      "execution_count": null,
      "outputs": []
    },
    {
      "cell_type": "markdown",
      "metadata": {
        "id": "APHUt1j0MOgw"
      },
      "source": [
        "## Model building"
      ]
    },
    {
      "cell_type": "markdown",
      "metadata": {
        "id": "9EPdWAcgMOgw"
      },
      "source": [
        "### Splitting dataset"
      ]
    },
    {
      "cell_type": "code",
      "metadata": {
        "id": "SkTbxI51MOgw"
      },
      "source": [
        "from sklearn.model_selection import train_test_split\n",
        "\n",
        "train_sp_X,test_sp_X,train_sp_y,test_sp_y = train_test_split(train_X, train_y, test_size=0.2, random_state=129)"
      ],
      "execution_count": null,
      "outputs": []
    },
    {
      "cell_type": "code",
      "metadata": {
        "colab": {
          "base_uri": "https://localhost:8080/"
        },
        "id": "5Hz4B_AOwWNQ",
        "outputId": "a4e5ffcb-f79e-479d-9561-02c2711f07da"
      },
      "source": [
        "from keras import models\n",
        "from keras import layers\n",
        "\n",
        "model = models.Sequential()\n",
        "model.add(layers.Conv2D(32, kernel_size=5, padding='same', activation='relu', input_shape=(28, 28, 1)))\n",
        "model.add(layers.MaxPooling2D(pool_size=(2,2)))\n",
        "model.add(layers.Dropout(rate=0.4))\n",
        "model.add(layers.Conv2D(64, kernel_size=5, activation='relu'))\n",
        "model.add(layers.MaxPooling2D(pool_size=(2,2)))\n",
        "model.add(layers.Dropout(rate=0.4))\n",
        "model.add(layers.Conv2D(128, kernel_size=3, activation='relu'))\n",
        "model.add(layers.Flatten())\n",
        "model.add(layers.Dense(256, activation='relu'))\n",
        "model.add(layers.Dropout(rate=0.4))\n",
        "model.add(layers.Dense(num_classes, activation='softmax'))\n",
        "\n",
        "model.compile(optimizer='adam', loss='categorical_crossentropy', metrics=['accuracy'])\n",
        "model.summary()"
      ],
      "execution_count": null,
      "outputs": []
    },
    {
      "cell_type": "code",
      "metadata": {
        "id": "Pp3ZgPMzMOgx"
      },
      "source": [
        "from keras.callbacks import EarlyStopping, ReduceLROnPlateau,ModelCheckpoint\n",
        "model_path=r\"/content/drive/MyDrive/Handwriting/models/\"\n",
        "filepath = model_path + \"model-{epoch:02d}-{val_accuracy:.4f}.h5\"\n",
        "\n",
        "MCP = ModelCheckpoint(filepath,\n",
        "                        verbose=1,\n",
        "                        save_best_only=True,\n",
        "                        monitor='val_accuracy',\n",
        "                        mode='max')\n",
        "ES = EarlyStopping(monitor='val_accuracy',\n",
        "                    min_delta=0,\n",
        "                    verbose=1,\n",
        "                    restore_best_weights=True,\n",
        "                    patience=3,\n",
        "                    mode='max')\n",
        "RLP = ReduceLROnPlateau(monitor='val_loss',\n",
        "                        patience=3,\n",
        "                        factor=0.2,\n",
        "                        min_lr=0.0001)"
      ],
      "execution_count": null,
      "outputs": []
    },
    {
      "cell_type": "code",
      "metadata": {
        "id": "7Q02Js7qMOgx",
        "colab": {
          "base_uri": "https://localhost:8080/"
        },
        "outputId": "f22ca4f4-3daf-47bf-f814-687197767243"
      },
      "source": [
        "history = model.fit(train_sp_X, train_sp_y, epochs=30,\n",
        "                    validation_data=(test_sp_X, test_sp_y),\n",
        "                    callbacks=[MCP,ES,RLP])"
      ],
      "execution_count": null,
      "outputs": []
    },
    {
      "cell_type": "code",
      "metadata": {
        "id": "cIwxcqeQMOgy",
        "colab": {
          "base_uri": "https://localhost:8080/",
          "height": 298
        },
        "outputId": "fb169aa8-9e36-4fd2-a1c5-5a0efc27b46b"
      },
      "source": [
        "import seaborn as sns\n",
        "\n",
        "q = len(history.history['accuracy'])\n",
        "\n",
        "plt.figsize=(10,10)\n",
        "sns.lineplot(x = range(1,1+q),y = history.history['accuracy'], label='Accuracy')\n",
        "sns.lineplot(x = range(1,1+q),y = history.history['val_accuracy'], label='Val_Accuracy')\n",
        "plt.xlabel('epochs')\n",
        "plt.ylabel('Accuray')"
      ],
      "execution_count": null,
      "outputs": []
    },
    {
      "cell_type": "code",
      "metadata": {
        "id": "rguEa1ovzSVU"
      },
      "source": [
        "def plot_metric(history, metric):\n",
        "    train_metrics = history.history[metric]\n",
        "    val_metrics = history.history['val_'+metric]\n",
        "    epochs = range(1, len(train_metrics) + 1)\n",
        "    plt.plot(epochs, train_metrics)\n",
        "    plt.plot(epochs, val_metrics)\n",
        "    plt.title('Training and validation '+ metric)\n",
        "    plt.xlabel(\"Epochs\")\n",
        "    plt.ylabel(metric)\n",
        "    plt.legend([\"train_\"+metric, 'val_'+metric])\n",
        "    plt.show()"
      ],
      "execution_count": null,
      "outputs": []
    },
    {
      "cell_type": "code",
      "metadata": {
        "colab": {
          "base_uri": "https://localhost:8080/",
          "height": 295
        },
        "id": "zcwywwt0zdZe",
        "outputId": "8195ee98-1137-435f-a71f-bce227a3cad6"
      },
      "source": [
        "plot_metric(history, 'loss')"
      ],
      "execution_count": null,
      "outputs": []
    },
    {
      "cell_type": "markdown",
      "metadata": {
        "id": "-GCHN1H3MOgz"
      },
      "source": [
        "## Predictions"
      ]
    },
    {
      "cell_type": "markdown",
      "metadata": {
        "id": "d4S2BMIgMOgz"
      },
      "source": [
        "### Predict using test set"
      ]
    },
    {
      "cell_type": "code",
      "metadata": {
        "id": "jbUT0wpOMOgz"
      },
      "source": [
        "def run_prediction(row):\n",
        "    input_ = test_X[row].reshape(1,28,28,1)\n",
        "    result = np.argmax(model.predict(input_))\n",
        "    prediction = class_mapping[result]\n",
        "    label = test_df.values[row,0]\n",
        "    plot_flipped_image(test_df, row, title=f\"Prediction {prediction} - Label(origin) {class_mapping[label]}\")"
      ],
      "execution_count": null,
      "outputs": []
    },
    {
      "cell_type": "code",
      "metadata": {
        "id": "C5dAIBZAMOg0",
        "colab": {
          "base_uri": "https://localhost:8080/",
          "height": 1000
        },
        "outputId": "b17aa63f-a3ee-4f5e-bebd-153ad60e7f84"
      },
      "source": [
        "import random\n",
        "import time\n",
        "\n",
        "for _ in range(1,10):\n",
        "    idx = random.randint(0, len(test_df))\n",
        "    run_prediction(idx)"
      ],
      "execution_count": null,
      "outputs": []
    },
    {
      "cell_type": "markdown",
      "metadata": {
        "id": "T5Ya3TGVMOg0"
      },
      "source": [
        "### Predict using custom images"
      ]
    },
    {
      "cell_type": "code",
      "metadata": {
        "id": "9pLG29S9MOg0"
      },
      "source": [
        "from PIL import Image\n",
        "from numpy import asarray\n",
        "import os\n",
        "\n",
        "def pred(path):\n",
        "    image = Image.open(path)\n",
        "    image = image.convert('L')\n",
        "    # convert image to numpy array\n",
        "    data = asarray(image)\n",
        "    # convert array to 28x28 array (matrix)\n",
        "    img = data.reshape([28,28])\n",
        "    data = data.reshape(1,28,28,1)\n",
        "    # normalize image\n",
        "    d = data / 255.0\n",
        "    # run prediction\n",
        "    result = np.argmax(model.predict(d))\n",
        "    prediction = class_mapping[result]\n",
        "    label = os.path.split(path)[-1].split('.')[0][0]\n",
        "    #label = label.split('.')[-1][0]\n",
        "    plt.imshow(img, cmap=\"Greys_r\")\n",
        "    plt.title(f'Prediction {prediction} - Label(origin) {label}')\n",
        "    plt.show()\n"
      ],
      "execution_count": null,
      "outputs": []
    },
    {
      "cell_type": "code",
      "metadata": {
        "id": "987JHT7nMOg1",
        "colab": {
          "base_uri": "https://localhost:8080/",
          "height": 1000
        },
        "outputId": "81500cdc-33af-4205-fcee-f127a4af4fa0"
      },
      "source": [
        "directory = '..\\data\\images'\n",
        "\n",
        "\n",
        "for filename in os.listdir(directory):\n",
        "    f = os.path.join(directory, filename)\n",
        "\n",
        "    if os.path.isfile(f):\n",
        "        pred(f)"
      ],
      "execution_count": null,
      "outputs": []
    }
  ]
}